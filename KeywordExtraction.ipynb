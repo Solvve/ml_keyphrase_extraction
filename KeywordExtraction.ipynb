{
 "cells": [
  {
   "cell_type": "markdown",
   "metadata": {},
   "source": [
    "# Imports"
   ]
  },
  {
   "cell_type": "code",
   "execution_count": 1,
   "metadata": {},
   "outputs": [],
   "source": [
    "import os\n",
    "import re\n",
    "import spacy\n",
    "\n",
    "import numpy as np\n",
    "import pandas as pd\n",
    "\n",
    "import seaborn as sns\n",
    "import matplotlib.pyplot as plt\n",
    "\n",
    "from spacy.lang.en import English\n",
    "from spacy.lang.en.stop_words import STOP_WORDS\n",
    "\n",
    "from gensim.parsing.preprocessing import strip_tags\n",
    "\n",
    "from collections import Counter\n",
    "from sklearn.decomposition import NMF, LatentDirichletAllocation\n",
    "from sklearn.feature_extraction.text import TfidfVectorizer, CountVectorizer\n",
    "\n",
    "try:\n",
    "    import en_core_web_lg\n",
    "    nlp = en_core_web_lg.load()\n",
    "    tokenizer = nlp.tokenizer\n",
    "    tokenizer_tags = nlp\n",
    "    # tokenizer_light = nlp.tokenizer\n",
    "except ImportError:\n",
    "    print('Using default tokenizer')\n",
    "    nlp = English()\n",
    "    tokenizer = nlp.Defaults.create_tokenizer(nlp)\n",
    "    \n",
    "stop_words = STOP_WORDS"
   ]
  },
  {
   "cell_type": "markdown",
   "metadata": {},
   "source": [
    "# Utils"
   ]
  },
  {
   "cell_type": "code",
   "execution_count": 2,
   "metadata": {},
   "outputs": [],
   "source": [
    "def token_spacy(input_text: str):\n",
    "    text = input_text.lower()\n",
    "    text = re.sub(r\"[^A-z]\", \" \", text)\n",
    "    \n",
    "    spacy_tokens = tokenizer(text)\n",
    "    tokens = [token.lemma_.strip() for token in spacy_tokens \n",
    "                    if (len(token.lemma_.strip()) > 1) and not token.lemma_.strip() in stop_words]\n",
    "    \n",
    "    return tokens\n",
    "\n",
    "\n",
    "def token_spacy_v2(input_text: str):\n",
    "    text = strip_tags(input_text.lower())\n",
    "    text = re.sub(r\"[^A-z('t|s)0-9]\", \" \", text)\n",
    "    \n",
    "    spacy_tokens = tokenizer(text)\n",
    "    tokens = []\n",
    "    for token in spacy_tokens:\n",
    "        token_lemma = token.lemma_.strip().replace(u'\\ufeff', '')\n",
    "\n",
    "        if (len(token_lemma) > 1) and not token_lemma in stop_words:\n",
    "            if token_lemma == '-PRON-':\n",
    "                tokens.append(token.text)\n",
    "            else:\n",
    "                tokens.append(token_lemma)\n",
    "    \n",
    "    return tokens\n",
    "\n",
    "\n",
    "def clear_title(text: str):\n",
    "    return re.sub('([0-9]{1,} people found this helpful. Was this review helpful to you Yes No)', '', text)\n",
    "\n",
    "\n",
    "def sort_n_gram(docs_vectors: list, features: list):\n",
    "    sum_words = np.array(docs_vectors.sum(axis=0))[0]\n",
    "    \n",
    "    sorted_indexes = np.argsort(sum_words)[::-1]\n",
    "    features_names = np.array(features)\n",
    "     \n",
    "    return np.column_stack((features_names[sorted_indexes], sum_words[sorted_indexes]))\n",
    "\n",
    "\n",
    "def get_top_n_gram(corpus: np.ndarray, ngram_range: tuple=(2, 3), max_features: int=2000, n: int=20):\n",
    "    vectorizer = TfidfVectorizer(ngram_range=ngram_range, max_features=max_features, tokenizer=token_spacy)\n",
    "    docs_vectors = vectorizer.fit_transform(corpus)\n",
    "     \n",
    "    return sort_n_gram(docs_vectors, vectorizer.get_feature_names())[:n], vectorizer\n",
    "\n",
    "\n",
    "def build_n_gram(vectorizer, corpus: str, n: int=20):\n",
    "    docs_vectors = vectorizer.transform(corpus)\n",
    "    return sort_n_gram(docs_vectors, vectorizer.get_feature_names())[:n]"
   ]
  },
  {
   "cell_type": "markdown",
   "metadata": {},
   "source": [
    "# Read data"
   ]
  },
  {
   "cell_type": "code",
   "execution_count": 3,
   "metadata": {},
   "outputs": [],
   "source": [
    "data_path = 'data'"
   ]
  },
  {
   "cell_type": "code",
   "execution_count": 4,
   "metadata": {
    "tags": []
   },
   "outputs": [
    {
     "name": "stderr",
     "output_type": "stream",
     "text": [
      "/work/apps/amazon_reviews_analyzer/lib/python3.7/site-packages/IPython/core/interactiveshell.py:3146: DtypeWarning: Columns (1,10) have mixed types.Specify dtype option on import or set low_memory=False.\n",
      "  interactivity=interactivity, compiler=compiler, result=result)\n"
     ]
    },
    {
     "data": {
      "text/html": [
       "<div>\n",
       "<style scoped>\n",
       "    .dataframe tbody tr th:only-of-type {\n",
       "        vertical-align: middle;\n",
       "    }\n",
       "\n",
       "    .dataframe tbody tr th {\n",
       "        vertical-align: top;\n",
       "    }\n",
       "\n",
       "    .dataframe thead th {\n",
       "        text-align: right;\n",
       "    }\n",
       "</style>\n",
       "<table border=\"1\" class=\"dataframe\">\n",
       "  <thead>\n",
       "    <tr style=\"text-align: right;\">\n",
       "      <th></th>\n",
       "      <th>id</th>\n",
       "      <th>name</th>\n",
       "      <th>asins</th>\n",
       "      <th>brand</th>\n",
       "      <th>categories</th>\n",
       "      <th>keys</th>\n",
       "      <th>manufacturer</th>\n",
       "      <th>reviews.date</th>\n",
       "      <th>reviews.dateAdded</th>\n",
       "      <th>reviews.dateSeen</th>\n",
       "      <th>...</th>\n",
       "      <th>reviews.doRecommend</th>\n",
       "      <th>reviews.id</th>\n",
       "      <th>reviews.numHelpful</th>\n",
       "      <th>reviews.rating</th>\n",
       "      <th>reviews.sourceURLs</th>\n",
       "      <th>reviews.text</th>\n",
       "      <th>reviews.title</th>\n",
       "      <th>reviews.userCity</th>\n",
       "      <th>reviews.userProvince</th>\n",
       "      <th>reviews.username</th>\n",
       "    </tr>\n",
       "  </thead>\n",
       "  <tbody>\n",
       "    <tr>\n",
       "      <th>0</th>\n",
       "      <td>AVqkIhwDv8e3D1O-lebb</td>\n",
       "      <td>All-New Fire HD 8 Tablet, 8 HD Display, Wi-Fi,...</td>\n",
       "      <td>B01AHB9CN2</td>\n",
       "      <td>Amazon</td>\n",
       "      <td>Electronics,iPad &amp; Tablets,All Tablets,Fire Ta...</td>\n",
       "      <td>841667104676,amazon/53004484,amazon/b01ahb9cn2...</td>\n",
       "      <td>Amazon</td>\n",
       "      <td>2017-01-13T00:00:00.000Z</td>\n",
       "      <td>2017-07-03T23:33:15Z</td>\n",
       "      <td>2017-06-07T09:04:00.000Z,2017-04-30T00:45:00.000Z</td>\n",
       "      <td>...</td>\n",
       "      <td>True</td>\n",
       "      <td>NaN</td>\n",
       "      <td>0.0</td>\n",
       "      <td>5.0</td>\n",
       "      <td>http://reviews.bestbuy.com/3545/5620406/review...</td>\n",
       "      <td>This product so far has not disappointed. My c...</td>\n",
       "      <td>Kindle</td>\n",
       "      <td>NaN</td>\n",
       "      <td>NaN</td>\n",
       "      <td>Adapter</td>\n",
       "    </tr>\n",
       "    <tr>\n",
       "      <th>1</th>\n",
       "      <td>AVqkIhwDv8e3D1O-lebb</td>\n",
       "      <td>All-New Fire HD 8 Tablet, 8 HD Display, Wi-Fi,...</td>\n",
       "      <td>B01AHB9CN2</td>\n",
       "      <td>Amazon</td>\n",
       "      <td>Electronics,iPad &amp; Tablets,All Tablets,Fire Ta...</td>\n",
       "      <td>841667104676,amazon/53004484,amazon/b01ahb9cn2...</td>\n",
       "      <td>Amazon</td>\n",
       "      <td>2017-01-13T00:00:00.000Z</td>\n",
       "      <td>2017-07-03T23:33:15Z</td>\n",
       "      <td>2017-06-07T09:04:00.000Z,2017-04-30T00:45:00.000Z</td>\n",
       "      <td>...</td>\n",
       "      <td>True</td>\n",
       "      <td>NaN</td>\n",
       "      <td>0.0</td>\n",
       "      <td>5.0</td>\n",
       "      <td>http://reviews.bestbuy.com/3545/5620406/review...</td>\n",
       "      <td>great for beginner or experienced person. Boug...</td>\n",
       "      <td>very fast</td>\n",
       "      <td>NaN</td>\n",
       "      <td>NaN</td>\n",
       "      <td>truman</td>\n",
       "    </tr>\n",
       "    <tr>\n",
       "      <th>2</th>\n",
       "      <td>AVqkIhwDv8e3D1O-lebb</td>\n",
       "      <td>All-New Fire HD 8 Tablet, 8 HD Display, Wi-Fi,...</td>\n",
       "      <td>B01AHB9CN2</td>\n",
       "      <td>Amazon</td>\n",
       "      <td>Electronics,iPad &amp; Tablets,All Tablets,Fire Ta...</td>\n",
       "      <td>841667104676,amazon/53004484,amazon/b01ahb9cn2...</td>\n",
       "      <td>Amazon</td>\n",
       "      <td>2017-01-13T00:00:00.000Z</td>\n",
       "      <td>2017-07-03T23:33:15Z</td>\n",
       "      <td>2017-06-07T09:04:00.000Z,2017-04-30T00:45:00.000Z</td>\n",
       "      <td>...</td>\n",
       "      <td>True</td>\n",
       "      <td>NaN</td>\n",
       "      <td>0.0</td>\n",
       "      <td>5.0</td>\n",
       "      <td>http://reviews.bestbuy.com/3545/5620406/review...</td>\n",
       "      <td>Inexpensive tablet for him to use and learn on...</td>\n",
       "      <td>Beginner tablet for our 9 year old son.</td>\n",
       "      <td>NaN</td>\n",
       "      <td>NaN</td>\n",
       "      <td>DaveZ</td>\n",
       "    </tr>\n",
       "    <tr>\n",
       "      <th>3</th>\n",
       "      <td>AVqkIhwDv8e3D1O-lebb</td>\n",
       "      <td>All-New Fire HD 8 Tablet, 8 HD Display, Wi-Fi,...</td>\n",
       "      <td>B01AHB9CN2</td>\n",
       "      <td>Amazon</td>\n",
       "      <td>Electronics,iPad &amp; Tablets,All Tablets,Fire Ta...</td>\n",
       "      <td>841667104676,amazon/53004484,amazon/b01ahb9cn2...</td>\n",
       "      <td>Amazon</td>\n",
       "      <td>2017-01-13T00:00:00.000Z</td>\n",
       "      <td>2017-07-03T23:33:15Z</td>\n",
       "      <td>2017-06-07T09:04:00.000Z,2017-04-30T00:45:00.000Z</td>\n",
       "      <td>...</td>\n",
       "      <td>True</td>\n",
       "      <td>NaN</td>\n",
       "      <td>0.0</td>\n",
       "      <td>4.0</td>\n",
       "      <td>http://reviews.bestbuy.com/3545/5620406/review...</td>\n",
       "      <td>I've had my Fire HD 8 two weeks now and I love...</td>\n",
       "      <td>Good!!!</td>\n",
       "      <td>NaN</td>\n",
       "      <td>NaN</td>\n",
       "      <td>Shacks</td>\n",
       "    </tr>\n",
       "    <tr>\n",
       "      <th>4</th>\n",
       "      <td>AVqkIhwDv8e3D1O-lebb</td>\n",
       "      <td>All-New Fire HD 8 Tablet, 8 HD Display, Wi-Fi,...</td>\n",
       "      <td>B01AHB9CN2</td>\n",
       "      <td>Amazon</td>\n",
       "      <td>Electronics,iPad &amp; Tablets,All Tablets,Fire Ta...</td>\n",
       "      <td>841667104676,amazon/53004484,amazon/b01ahb9cn2...</td>\n",
       "      <td>Amazon</td>\n",
       "      <td>2017-01-12T00:00:00.000Z</td>\n",
       "      <td>2017-07-03T23:33:15Z</td>\n",
       "      <td>2017-06-07T09:04:00.000Z,2017-04-30T00:45:00.000Z</td>\n",
       "      <td>...</td>\n",
       "      <td>True</td>\n",
       "      <td>NaN</td>\n",
       "      <td>0.0</td>\n",
       "      <td>5.0</td>\n",
       "      <td>http://reviews.bestbuy.com/3545/5620406/review...</td>\n",
       "      <td>I bought this for my grand daughter when she c...</td>\n",
       "      <td>Fantastic Tablet for kids</td>\n",
       "      <td>NaN</td>\n",
       "      <td>NaN</td>\n",
       "      <td>explore42</td>\n",
       "    </tr>\n",
       "    <tr>\n",
       "      <th>...</th>\n",
       "      <td>...</td>\n",
       "      <td>...</td>\n",
       "      <td>...</td>\n",
       "      <td>...</td>\n",
       "      <td>...</td>\n",
       "      <td>...</td>\n",
       "      <td>...</td>\n",
       "      <td>...</td>\n",
       "      <td>...</td>\n",
       "      <td>...</td>\n",
       "      <td>...</td>\n",
       "      <td>...</td>\n",
       "      <td>...</td>\n",
       "      <td>...</td>\n",
       "      <td>...</td>\n",
       "      <td>...</td>\n",
       "      <td>...</td>\n",
       "      <td>...</td>\n",
       "      <td>...</td>\n",
       "      <td>...</td>\n",
       "      <td>...</td>\n",
       "    </tr>\n",
       "    <tr>\n",
       "      <th>34655</th>\n",
       "      <td>AVpfiBlyLJeJML43-4Tp</td>\n",
       "      <td>NaN</td>\n",
       "      <td>B006GWO5WK</td>\n",
       "      <td>Amazon</td>\n",
       "      <td>Computers/Tablets &amp; Networking,Tablet &amp; eBook ...</td>\n",
       "      <td>newamazonkindlefirehd9wpowerfastadaptercharger...</td>\n",
       "      <td>Amazon Digital Services, Inc</td>\n",
       "      <td>2012-09-18T00:00:00Z</td>\n",
       "      <td>NaN</td>\n",
       "      <td>2015-08-29T00:00:00Z</td>\n",
       "      <td>...</td>\n",
       "      <td>NaN</td>\n",
       "      <td>NaN</td>\n",
       "      <td>NaN</td>\n",
       "      <td>3.0</td>\n",
       "      <td>http://www.amazon.com/Amazon-PowerFast-Adapter...</td>\n",
       "      <td>This is not appreciably faster than any other ...</td>\n",
       "      <td>Not appreciably faster than any other 1.8A cha...</td>\n",
       "      <td>NaN</td>\n",
       "      <td>NaN</td>\n",
       "      <td>Kris</td>\n",
       "    </tr>\n",
       "    <tr>\n",
       "      <th>34656</th>\n",
       "      <td>AVpfiBlyLJeJML43-4Tp</td>\n",
       "      <td>NaN</td>\n",
       "      <td>B006GWO5WK</td>\n",
       "      <td>Amazon</td>\n",
       "      <td>Computers/Tablets &amp; Networking,Tablet &amp; eBook ...</td>\n",
       "      <td>newamazonkindlefirehd9wpowerfastadaptercharger...</td>\n",
       "      <td>Amazon Digital Services, Inc</td>\n",
       "      <td>2012-11-21T00:00:00Z</td>\n",
       "      <td>NaN</td>\n",
       "      <td>2015-09-02T00:00:00Z</td>\n",
       "      <td>...</td>\n",
       "      <td>NaN</td>\n",
       "      <td>NaN</td>\n",
       "      <td>NaN</td>\n",
       "      <td>1.0</td>\n",
       "      <td>http://www.amazon.com/Amazon-PowerFast-Adapter...</td>\n",
       "      <td>Amazon should include this charger with the Ki...</td>\n",
       "      <td>Should be included</td>\n",
       "      <td>NaN</td>\n",
       "      <td>NaN</td>\n",
       "      <td>Jonathan Stewart</td>\n",
       "    </tr>\n",
       "    <tr>\n",
       "      <th>34657</th>\n",
       "      <td>AVpfiBlyLJeJML43-4Tp</td>\n",
       "      <td>NaN</td>\n",
       "      <td>B006GWO5WK</td>\n",
       "      <td>Amazon</td>\n",
       "      <td>Computers/Tablets &amp; Networking,Tablet &amp; eBook ...</td>\n",
       "      <td>newamazonkindlefirehd9wpowerfastadaptercharger...</td>\n",
       "      <td>Amazon Digital Services, Inc</td>\n",
       "      <td>2012-10-19T00:00:00Z</td>\n",
       "      <td>NaN</td>\n",
       "      <td>2015-09-04T00:00:00Z</td>\n",
       "      <td>...</td>\n",
       "      <td>NaN</td>\n",
       "      <td>NaN</td>\n",
       "      <td>NaN</td>\n",
       "      <td>1.0</td>\n",
       "      <td>http://www.amazon.com/Amazon-PowerFast-Adapter...</td>\n",
       "      <td>Love my Kindle Fire but I am really disappoint...</td>\n",
       "      <td>Disappointing Charger</td>\n",
       "      <td>NaN</td>\n",
       "      <td>NaN</td>\n",
       "      <td>J Lawson</td>\n",
       "    </tr>\n",
       "    <tr>\n",
       "      <th>34658</th>\n",
       "      <td>AVpfiBlyLJeJML43-4Tp</td>\n",
       "      <td>NaN</td>\n",
       "      <td>B006GWO5WK</td>\n",
       "      <td>Amazon</td>\n",
       "      <td>Computers/Tablets &amp; Networking,Tablet &amp; eBook ...</td>\n",
       "      <td>newamazonkindlefirehd9wpowerfastadaptercharger...</td>\n",
       "      <td>Amazon Digital Services, Inc</td>\n",
       "      <td>2012-10-31T00:00:00Z</td>\n",
       "      <td>NaN</td>\n",
       "      <td>2015-09-01T00:00:00Z</td>\n",
       "      <td>...</td>\n",
       "      <td>NaN</td>\n",
       "      <td>NaN</td>\n",
       "      <td>NaN</td>\n",
       "      <td>1.0</td>\n",
       "      <td>http://www.amazon.com/Amazon-PowerFast-Adapter...</td>\n",
       "      <td>I was surprised to find it did not come with a...</td>\n",
       "      <td>Not worth the money</td>\n",
       "      <td>NaN</td>\n",
       "      <td>NaN</td>\n",
       "      <td>Just the Buyer</td>\n",
       "    </tr>\n",
       "    <tr>\n",
       "      <th>34659</th>\n",
       "      <td>AVpfiBlyLJeJML43-4Tp</td>\n",
       "      <td>NaN</td>\n",
       "      <td>B006GWO5WK</td>\n",
       "      <td>Amazon</td>\n",
       "      <td>Computers/Tablets &amp; Networking,Tablet &amp; eBook ...</td>\n",
       "      <td>newamazonkindlefirehd9wpowerfastadaptercharger...</td>\n",
       "      <td>Amazon Digital Services, Inc</td>\n",
       "      <td>2012-12-23T00:00:00Z</td>\n",
       "      <td>NaN</td>\n",
       "      <td>2015-11-01T00:00:00Z</td>\n",
       "      <td>...</td>\n",
       "      <td>NaN</td>\n",
       "      <td>NaN</td>\n",
       "      <td>NaN</td>\n",
       "      <td>1.0</td>\n",
       "      <td>http://www.amazon.com/Amazon-PowerFast-Adapter...</td>\n",
       "      <td>to spite the fact that i have nothing but good...</td>\n",
       "      <td>as with everyone else</td>\n",
       "      <td>NaN</td>\n",
       "      <td>NaN</td>\n",
       "      <td>sandi</td>\n",
       "    </tr>\n",
       "  </tbody>\n",
       "</table>\n",
       "<p>34660 rows × 21 columns</p>\n",
       "</div>"
      ],
      "text/plain": [
       "                         id  \\\n",
       "0      AVqkIhwDv8e3D1O-lebb   \n",
       "1      AVqkIhwDv8e3D1O-lebb   \n",
       "2      AVqkIhwDv8e3D1O-lebb   \n",
       "3      AVqkIhwDv8e3D1O-lebb   \n",
       "4      AVqkIhwDv8e3D1O-lebb   \n",
       "...                     ...   \n",
       "34655  AVpfiBlyLJeJML43-4Tp   \n",
       "34656  AVpfiBlyLJeJML43-4Tp   \n",
       "34657  AVpfiBlyLJeJML43-4Tp   \n",
       "34658  AVpfiBlyLJeJML43-4Tp   \n",
       "34659  AVpfiBlyLJeJML43-4Tp   \n",
       "\n",
       "                                                    name       asins   brand  \\\n",
       "0      All-New Fire HD 8 Tablet, 8 HD Display, Wi-Fi,...  B01AHB9CN2  Amazon   \n",
       "1      All-New Fire HD 8 Tablet, 8 HD Display, Wi-Fi,...  B01AHB9CN2  Amazon   \n",
       "2      All-New Fire HD 8 Tablet, 8 HD Display, Wi-Fi,...  B01AHB9CN2  Amazon   \n",
       "3      All-New Fire HD 8 Tablet, 8 HD Display, Wi-Fi,...  B01AHB9CN2  Amazon   \n",
       "4      All-New Fire HD 8 Tablet, 8 HD Display, Wi-Fi,...  B01AHB9CN2  Amazon   \n",
       "...                                                  ...         ...     ...   \n",
       "34655                                                NaN  B006GWO5WK  Amazon   \n",
       "34656                                                NaN  B006GWO5WK  Amazon   \n",
       "34657                                                NaN  B006GWO5WK  Amazon   \n",
       "34658                                                NaN  B006GWO5WK  Amazon   \n",
       "34659                                                NaN  B006GWO5WK  Amazon   \n",
       "\n",
       "                                              categories  \\\n",
       "0      Electronics,iPad & Tablets,All Tablets,Fire Ta...   \n",
       "1      Electronics,iPad & Tablets,All Tablets,Fire Ta...   \n",
       "2      Electronics,iPad & Tablets,All Tablets,Fire Ta...   \n",
       "3      Electronics,iPad & Tablets,All Tablets,Fire Ta...   \n",
       "4      Electronics,iPad & Tablets,All Tablets,Fire Ta...   \n",
       "...                                                  ...   \n",
       "34655  Computers/Tablets & Networking,Tablet & eBook ...   \n",
       "34656  Computers/Tablets & Networking,Tablet & eBook ...   \n",
       "34657  Computers/Tablets & Networking,Tablet & eBook ...   \n",
       "34658  Computers/Tablets & Networking,Tablet & eBook ...   \n",
       "34659  Computers/Tablets & Networking,Tablet & eBook ...   \n",
       "\n",
       "                                                    keys  \\\n",
       "0      841667104676,amazon/53004484,amazon/b01ahb9cn2...   \n",
       "1      841667104676,amazon/53004484,amazon/b01ahb9cn2...   \n",
       "2      841667104676,amazon/53004484,amazon/b01ahb9cn2...   \n",
       "3      841667104676,amazon/53004484,amazon/b01ahb9cn2...   \n",
       "4      841667104676,amazon/53004484,amazon/b01ahb9cn2...   \n",
       "...                                                  ...   \n",
       "34655  newamazonkindlefirehd9wpowerfastadaptercharger...   \n",
       "34656  newamazonkindlefirehd9wpowerfastadaptercharger...   \n",
       "34657  newamazonkindlefirehd9wpowerfastadaptercharger...   \n",
       "34658  newamazonkindlefirehd9wpowerfastadaptercharger...   \n",
       "34659  newamazonkindlefirehd9wpowerfastadaptercharger...   \n",
       "\n",
       "                       manufacturer              reviews.date  \\\n",
       "0                            Amazon  2017-01-13T00:00:00.000Z   \n",
       "1                            Amazon  2017-01-13T00:00:00.000Z   \n",
       "2                            Amazon  2017-01-13T00:00:00.000Z   \n",
       "3                            Amazon  2017-01-13T00:00:00.000Z   \n",
       "4                            Amazon  2017-01-12T00:00:00.000Z   \n",
       "...                             ...                       ...   \n",
       "34655  Amazon Digital Services, Inc      2012-09-18T00:00:00Z   \n",
       "34656  Amazon Digital Services, Inc      2012-11-21T00:00:00Z   \n",
       "34657  Amazon Digital Services, Inc      2012-10-19T00:00:00Z   \n",
       "34658  Amazon Digital Services, Inc      2012-10-31T00:00:00Z   \n",
       "34659  Amazon Digital Services, Inc      2012-12-23T00:00:00Z   \n",
       "\n",
       "          reviews.dateAdded  \\\n",
       "0      2017-07-03T23:33:15Z   \n",
       "1      2017-07-03T23:33:15Z   \n",
       "2      2017-07-03T23:33:15Z   \n",
       "3      2017-07-03T23:33:15Z   \n",
       "4      2017-07-03T23:33:15Z   \n",
       "...                     ...   \n",
       "34655                   NaN   \n",
       "34656                   NaN   \n",
       "34657                   NaN   \n",
       "34658                   NaN   \n",
       "34659                   NaN   \n",
       "\n",
       "                                        reviews.dateSeen  ...  \\\n",
       "0      2017-06-07T09:04:00.000Z,2017-04-30T00:45:00.000Z  ...   \n",
       "1      2017-06-07T09:04:00.000Z,2017-04-30T00:45:00.000Z  ...   \n",
       "2      2017-06-07T09:04:00.000Z,2017-04-30T00:45:00.000Z  ...   \n",
       "3      2017-06-07T09:04:00.000Z,2017-04-30T00:45:00.000Z  ...   \n",
       "4      2017-06-07T09:04:00.000Z,2017-04-30T00:45:00.000Z  ...   \n",
       "...                                                  ...  ...   \n",
       "34655                               2015-08-29T00:00:00Z  ...   \n",
       "34656                               2015-09-02T00:00:00Z  ...   \n",
       "34657                               2015-09-04T00:00:00Z  ...   \n",
       "34658                               2015-09-01T00:00:00Z  ...   \n",
       "34659                               2015-11-01T00:00:00Z  ...   \n",
       "\n",
       "      reviews.doRecommend reviews.id  reviews.numHelpful  reviews.rating  \\\n",
       "0                    True        NaN                 0.0             5.0   \n",
       "1                    True        NaN                 0.0             5.0   \n",
       "2                    True        NaN                 0.0             5.0   \n",
       "3                    True        NaN                 0.0             4.0   \n",
       "4                    True        NaN                 0.0             5.0   \n",
       "...                   ...        ...                 ...             ...   \n",
       "34655                 NaN        NaN                 NaN             3.0   \n",
       "34656                 NaN        NaN                 NaN             1.0   \n",
       "34657                 NaN        NaN                 NaN             1.0   \n",
       "34658                 NaN        NaN                 NaN             1.0   \n",
       "34659                 NaN        NaN                 NaN             1.0   \n",
       "\n",
       "                                      reviews.sourceURLs  \\\n",
       "0      http://reviews.bestbuy.com/3545/5620406/review...   \n",
       "1      http://reviews.bestbuy.com/3545/5620406/review...   \n",
       "2      http://reviews.bestbuy.com/3545/5620406/review...   \n",
       "3      http://reviews.bestbuy.com/3545/5620406/review...   \n",
       "4      http://reviews.bestbuy.com/3545/5620406/review...   \n",
       "...                                                  ...   \n",
       "34655  http://www.amazon.com/Amazon-PowerFast-Adapter...   \n",
       "34656  http://www.amazon.com/Amazon-PowerFast-Adapter...   \n",
       "34657  http://www.amazon.com/Amazon-PowerFast-Adapter...   \n",
       "34658  http://www.amazon.com/Amazon-PowerFast-Adapter...   \n",
       "34659  http://www.amazon.com/Amazon-PowerFast-Adapter...   \n",
       "\n",
       "                                            reviews.text  \\\n",
       "0      This product so far has not disappointed. My c...   \n",
       "1      great for beginner or experienced person. Boug...   \n",
       "2      Inexpensive tablet for him to use and learn on...   \n",
       "3      I've had my Fire HD 8 two weeks now and I love...   \n",
       "4      I bought this for my grand daughter when she c...   \n",
       "...                                                  ...   \n",
       "34655  This is not appreciably faster than any other ...   \n",
       "34656  Amazon should include this charger with the Ki...   \n",
       "34657  Love my Kindle Fire but I am really disappoint...   \n",
       "34658  I was surprised to find it did not come with a...   \n",
       "34659  to spite the fact that i have nothing but good...   \n",
       "\n",
       "                                           reviews.title reviews.userCity  \\\n",
       "0                                                 Kindle              NaN   \n",
       "1                                              very fast              NaN   \n",
       "2                Beginner tablet for our 9 year old son.              NaN   \n",
       "3                                                Good!!!              NaN   \n",
       "4                              Fantastic Tablet for kids              NaN   \n",
       "...                                                  ...              ...   \n",
       "34655  Not appreciably faster than any other 1.8A cha...              NaN   \n",
       "34656                                 Should be included              NaN   \n",
       "34657                              Disappointing Charger              NaN   \n",
       "34658                                Not worth the money              NaN   \n",
       "34659                              as with everyone else              NaN   \n",
       "\n",
       "       reviews.userProvince  reviews.username  \n",
       "0                       NaN           Adapter  \n",
       "1                       NaN            truman  \n",
       "2                       NaN             DaveZ  \n",
       "3                       NaN            Shacks  \n",
       "4                       NaN         explore42  \n",
       "...                     ...               ...  \n",
       "34655                   NaN              Kris  \n",
       "34656                   NaN  Jonathan Stewart  \n",
       "34657                   NaN          J Lawson  \n",
       "34658                   NaN    Just the Buyer  \n",
       "34659                   NaN             sandi  \n",
       "\n",
       "[34660 rows x 21 columns]"
      ]
     },
     "execution_count": 4,
     "metadata": {},
     "output_type": "execute_result"
    }
   ],
   "source": [
    "reviews_df = pd.read_csv(os.path.join(data_path, '1429_1.csv'))\n",
    "reviews_df"
   ]
  },
  {
   "cell_type": "markdown",
   "metadata": {},
   "source": [
    "# EDA"
   ]
  },
  {
   "cell_type": "markdown",
   "metadata": {},
   "source": [
    "## Tabular data analysis"
   ]
  },
  {
   "cell_type": "code",
   "execution_count": 5,
   "metadata": {},
   "outputs": [
    {
     "data": {
      "text/plain": [
       "id                      34660\n",
       "name                    27900\n",
       "asins                   34658\n",
       "brand                   34660\n",
       "categories              34660\n",
       "keys                    34660\n",
       "manufacturer            34660\n",
       "reviews.date            34621\n",
       "reviews.dateAdded       24039\n",
       "reviews.dateSeen        34660\n",
       "reviews.didPurchase         1\n",
       "reviews.doRecommend     34066\n",
       "reviews.id                  1\n",
       "reviews.numHelpful      34131\n",
       "reviews.rating          34627\n",
       "reviews.sourceURLs      34660\n",
       "reviews.text            34659\n",
       "reviews.title           34655\n",
       "reviews.userCity            0\n",
       "reviews.userProvince        0\n",
       "reviews.username        34658\n",
       "dtype: int64"
      ]
     },
     "execution_count": 5,
     "metadata": {},
     "output_type": "execute_result"
    }
   ],
   "source": [
    "reviews_df.count()"
   ]
  },
  {
   "cell_type": "code",
   "execution_count": 6,
   "metadata": {},
   "outputs": [
    {
     "data": {
      "image/png": "[encoded data removed]",
      "text/plain": [
       "<Figure size 1728x1008 with 1 Axes>"
      ]
     },
     "metadata": {
      "needs_background": "light"
     },
     "output_type": "display_data"
    }
   ],
   "source": [
    "review_counts = reviews_df.asins.value_counts()\n",
    "\n",
    "f, ax = plt.subplots(1,1,figsize=(24, 14))\n",
    "\n",
    "ax.set_title('Reviews per product ID', {'fontsize': 25})\n",
    "\n",
    "sns.barplot(x=review_counts.index, y=review_counts, ax=ax)\n",
    "plt.setp(ax.get_xticklabels(), rotation=70);"
   ]
  },
  {
   "cell_type": "markdown",
   "metadata": {},
   "source": [
    "## Text analysis\n",
    "exploring texts"
   ]
  },
  {
   "cell_type": "code",
   "execution_count": 7,
   "metadata": {
    "tags": []
   },
   "outputs": [
    {
     "name": "stdout",
     "output_type": "stream",
     "text": [
      "SUMMARY: Kindle\n",
      "TEXT: This product so far has not disappointed. My children love to use it and I like the ability to monitor control what content they see with ease.\n",
      "\n",
      "SUMMARY: very fast\n",
      "TEXT: great for beginner or experienced person. Bought as a gift and she loves it\n",
      "\n",
      "SUMMARY: Beginner tablet for our 9 year old son.\n",
      "TEXT: Inexpensive tablet for him to use and learn on, step up from the NABI. He was thrilled with it, learn how to Skype on it already...\n",
      "\n",
      "SUMMARY: Good!!!\n",
      "TEXT: I've had my Fire HD 8 two weeks now and I love it. This tablet is a great value.We are Prime Members and that is where this tablet SHINES. I love being able to easily access all of the Prime content as well as movies you can download and watch laterThis has a 1280/800 screen which has some really nice look to it its nice and crisp and very bright infact it is brighter then the ipad pro costing $900 base model. The build on this fire is INSANELY AWESOME running at only 7.7mm thick and the smooth glossy feel on the back it is really amazing to hold its like the futuristic tab in ur hands.\n",
      "\n",
      "SUMMARY: Fantastic Tablet for kids\n",
      "TEXT: I bought this for my grand daughter when she comes over to visit. I set it up with her as the user, entered her age and name and now Amazon makes sure that she only accesses sites and content that are appropriate to her age. Simple to do and she loves the capabilities. I also bought and installed a 64gig SD card which gives this little tablet plenty of storage. For the price I think this tablet is best one out there. You can spend hundreds of dollars more for additional speed and capacity but when it comes to the basics this tablets does everything that most people will ever need at a fraction of the cost.\n",
      "\n",
      "SUMMARY: Just what we expected\n",
      "TEXT: This amazon fire 8 inch tablet is the perfect size. I purchased it for my husband so that he has a bigger screen than just his phone. He had gotten me one a few years ago so I knew it would be a good purchase.\n",
      "\n",
      "SUMMARY: great e-reader tablet\n",
      "TEXT: Great for e-reading on the go, nice and light weight, and for the price point given, definitely worth the purchase.\n",
      "\n",
      "SUMMARY: Great for gifts\n",
      "TEXT: I gave this as a Christmas gift to my inlaws, husband and uncle. They loved it and how easy they are to use with fantastic features!\n",
      "\n",
      "SUMMARY: Great for reading\n",
      "TEXT: Great as a device to read books. I like that it links with my borrowed library e-books. Switched from another popular tablet brand and I am happy with the choice I made. It took some time to get books from my previous non-Kindle reader, but finally figured out a way!\n",
      "\n",
      "SUMMARY: Great and lightweight reader\n",
      "TEXT: I love ordering books and reading them with the reader.\n",
      "\n",
      "SUMMARY: nice tablet for the price\n",
      "TEXT: Not easy for elderly users cease of ads that pop up.\n",
      "\n",
      "SUMMARY: Excellent product\n",
      "TEXT: Excellent product. Easy to use, large screen makes watching movies and reading easier.\n",
      "\n"
     ]
    }
   ],
   "source": [
    "for ind, row in reviews_df.iterrows():\n",
    "    print('SUMMARY:',row['reviews.title'])\n",
    "    print('TEXT:', row['reviews.text'] + '\\n')\n",
    "\n",
    "    if ind > 10:\n",
    "        break"
   ]
  },
  {
   "cell_type": "code",
   "execution_count": 8,
   "metadata": {
    "tags": []
   },
   "outputs": [
    {
     "name": "stdout",
     "output_type": "stream",
     "text": [
      "Unique titles: 19767\n"
     ]
    }
   ],
   "source": [
    "print('Unique titles:', np.unique(reviews_df['reviews.title'].dropna()).shape[0])"
   ]
  },
  {
   "cell_type": "markdown",
   "metadata": {},
   "source": [
    "Clear scrapped titles"
   ]
  },
  {
   "cell_type": "code",
   "execution_count": 9,
   "metadata": {
    "tags": []
   },
   "outputs": [
    {
     "data": {
      "text/plain": [
       "'Ships With All Current Kindle Fires... 556 people found this helpful. Was this review helpful to you Yes No'"
      ]
     },
     "execution_count": 9,
     "metadata": {},
     "output_type": "execute_result"
    }
   ],
   "source": [
    "# Remove this from reviews titles\n",
    "# 556 people found this helpful. Was this review helpful to you Yes No.\n",
    "# 53 people found this helpful. Was this review helpful to you Yes No.\n",
    "# 88 people found this helpful. Was this review helpful to you Yes No.\n",
    "\n",
    "reviews_df[reviews_df.asins == 'B006GWO5NE']['reviews.title'].values[2]"
   ]
  },
  {
   "cell_type": "code",
   "execution_count": 10,
   "metadata": {
    "tags": []
   },
   "outputs": [],
   "source": [
    "reviews_df = reviews_df[reviews_df['reviews.title'].notnull() & reviews_df['reviews.text'].notnull()].copy()\n",
    "reviews_df['reviews.title'] = reviews_df['reviews.title'].apply(clear_title)"
   ]
  },
  {
   "cell_type": "markdown",
   "metadata": {},
   "source": [
    "Combining title with main text"
   ]
  },
  {
   "cell_type": "code",
   "execution_count": 11,
   "metadata": {
    "tags": []
   },
   "outputs": [],
   "source": [
    "reviews_df['all_text'] = reviews_df['reviews.title'] + '. ' + reviews_df['reviews.text']\n",
    "reviews_df = reviews_df[reviews_df.all_text.notnull()]"
   ]
  },
  {
   "cell_type": "markdown",
   "metadata": {},
   "source": [
    "Plotting reviews length"
   ]
  },
  {
   "cell_type": "code",
   "execution_count": 12,
   "metadata": {
    "tags": []
   },
   "outputs": [
    {
     "name": "stdout",
     "output_type": "stream",
     "text": [
      "Longest review: 10724.\n",
      "Shortest review: 12.\n",
      "Mean of reviews: 180.0941016910025\n"
     ]
    }
   ],
   "source": [
    "texts_lengths = reviews_df['all_text'].dropna().apply(len)\n",
    "print(\n",
    "    f'Longest review: {texts_lengths.max()}.', \n",
    "    f'Shortest review: {texts_lengths.min()}.',\n",
    "    f'Mean of reviews: {texts_lengths.mean()}',\n",
    "    sep='\\n'\n",
    ")"
   ]
  },
  {
   "cell_type": "code",
   "execution_count": 13,
   "metadata": {
    "tags": []
   },
   "outputs": [
    {
     "data": {
      "image/png": "[encoded data removed]",
      "text/plain": [
       "<Figure size 1728x1008 with 1 Axes>"
      ]
     },
     "metadata": {
      "needs_background": "light"
     },
     "output_type": "display_data"
    }
   ],
   "source": [
    "f, ax = plt.subplots(1,1,figsize=(24, 14))\n",
    "\n",
    "ax.set_title('Lengths of reviews', {'fontsize': 25})\n",
    "sns.histplot(texts_lengths, kde=False, bins=5, ax=ax);"
   ]
  },
  {
   "cell_type": "code",
   "execution_count": 14,
   "metadata": {},
   "outputs": [
    {
     "data": {
      "image/png": "[encoded data removed]",
      "text/plain": [
       "<Figure size 1728x1008 with 1 Axes>"
      ]
     },
     "metadata": {
      "needs_background": "light"
     },
     "output_type": "display_data"
    }
   ],
   "source": [
    "f, ax = plt.subplots(1,1,figsize=(24, 14))\n",
    "\n",
    "ax.set_title('Lengths of reviews < 1000', {'fontsize': 25})\n",
    "sns.histplot(texts_lengths[texts_lengths < 1000], kde=False, bins=5, ax=ax);"
   ]
  },
  {
   "cell_type": "code",
   "execution_count": 15,
   "metadata": {},
   "outputs": [
    {
     "data": {
      "image/png": "[encoded data removed]",
      "text/plain": [
       "<Figure size 1728x1008 with 1 Axes>"
      ]
     },
     "metadata": {
      "needs_background": "light"
     },
     "output_type": "display_data"
    }
   ],
   "source": [
    "words_counter = Counter(token_spacy(' '.join(reviews_df['all_text'].dropna())))\n",
    "top_words = np.array(tuple(words_counter.most_common(20)))\n",
    "\n",
    "f, ax = plt.subplots(1, 1, figsize=(24, 14))\n",
    "\n",
    "ax.set_title('Words counter in corpus', {'fontsize': 25})\n",
    "sns.barplot(x=top_words[:, 0], y=top_words[:, 1].astype('int'), ax=ax)\n",
    "plt.setp(ax.get_xticklabels(), rotation=45, fontsize=18);"
   ]
  },
  {
   "cell_type": "code",
   "execution_count": 16,
   "metadata": {},
   "outputs": [],
   "source": [
    "top_n_grams, vectorizer = get_top_n_gram(reviews_df.all_text.dropna(), n=20)\n",
    "top_n_grams_df = pd.DataFrame(top_n_grams)\n",
    "top_n_grams_df.columns=[\"bi_gram\", \"freq\"]\n",
    "top_n_grams_df.freq = top_n_grams_df.freq.astype(np.float16)"
   ]
  },
  {
   "cell_type": "code",
   "execution_count": 17,
   "metadata": {},
   "outputs": [
    {
     "data": {
      "image/png": "[encoded data removed]",
      "text/plain": [
       "<Figure size 1728x1008 with 1 Axes>"
      ]
     },
     "metadata": {
      "needs_background": "light"
     },
     "output_type": "display_data"
    }
   ],
   "source": [
    "f, ax = plt.subplots(1,1,figsize=(24, 14))\n",
    "\n",
    "ax.set_title('Top n grams in corpus', {'fontsize': 25})\n",
    "sns.barplot(x=\"bi_gram\", y=\"freq\", data=top_n_grams_df, ax=ax)\n",
    "plt.setp(ax.get_xticklabels(), rotation=45, fontsize=18);"
   ]
  },
  {
   "cell_type": "markdown",
   "metadata": {},
   "source": [
    "## Build keyphrases for each product"
   ]
  },
  {
   "cell_type": "code",
   "execution_count": 18,
   "metadata": {
    "tags": []
   },
   "outputs": [
    {
     "name": "stderr",
     "output_type": "stream",
     "text": [
      "/work/apps/amazon_reviews_analyzer/lib/python3.7/site-packages/sklearn/feature_extraction/text.py:484: UserWarning: The parameter 'token_pattern' will not be used since 'tokenizer' is not None'\n",
      "  warnings.warn(\"The parameter 'token_pattern' will not be used\"\n"
     ]
    },
    {
     "data": {
      "text/plain": [
       "TfidfVectorizer(max_features=2000, ngram_range=(2, 3),\n",
       "                tokenizer=<function token_spacy_v2 at 0x7f491ef55ef0>)"
      ]
     },
     "execution_count": 18,
     "metadata": {},
     "output_type": "execute_result"
    }
   ],
   "source": [
    "vectorizer = TfidfVectorizer(ngram_range=(2, 3), max_features=2000, tokenizer=token_spacy_v2)\n",
    "vectorizer.fit(reviews_df.all_text);"
   ]
  },
  {
   "cell_type": "code",
   "execution_count": 19,
   "metadata": {
    "tags": []
   },
   "outputs": [],
   "source": [
    "products_keyphrases_df = []\n",
    "\n",
    "for ind, product_group in reviews_df.groupby('asins'):\n",
    "    top_n_grams = build_n_gram(vectorizer=vectorizer, corpus=product_group.all_text, n=20)\n",
    "    products_keyphrases_df.append({'asin': ind, 'keyphrases': top_n_grams[:,0],'raw_keyphrases': top_n_grams})"
   ]
  },
  {
   "cell_type": "code",
   "execution_count": 20,
   "metadata": {},
   "outputs": [
    {
     "data": {
      "text/html": [
       "<div>\n",
       "<style scoped>\n",
       "    .dataframe tbody tr th:only-of-type {\n",
       "        vertical-align: middle;\n",
       "    }\n",
       "\n",
       "    .dataframe tbody tr th {\n",
       "        vertical-align: top;\n",
       "    }\n",
       "\n",
       "    .dataframe thead th {\n",
       "        text-align: right;\n",
       "    }\n",
       "</style>\n",
       "<table border=\"1\" class=\"dataframe\">\n",
       "  <thead>\n",
       "    <tr style=\"text-align: right;\">\n",
       "      <th></th>\n",
       "      <th>asin</th>\n",
       "      <th>keyphrases</th>\n",
       "      <th>raw_keyphrases</th>\n",
       "    </tr>\n",
       "  </thead>\n",
       "  <tbody>\n",
       "    <tr>\n",
       "      <th>0</th>\n",
       "      <td>B002Y27P3M</td>\n",
       "      <td>[page turn, new kindle, kindle keyboard, use k...</td>\n",
       "      <td>[[page turn, 2.34234933075354], [new kindle, 1...</td>\n",
       "    </tr>\n",
       "    <tr>\n",
       "      <th>1</th>\n",
       "      <td>B002Y27P6Y</td>\n",
       "      <td>[kindle read, kindle work, it easy, work great...</td>\n",
       "      <td>[[kindle read, 1.2621111430206566], [kindle wo...</td>\n",
       "    </tr>\n",
       "    <tr>\n",
       "      <th>2</th>\n",
       "      <td>B005PB2T0S</td>\n",
       "      <td>[kindle keyboard, new kindle, feel like, kindl...</td>\n",
       "      <td>[[kindle keyboard, 1.7086062596953622], [new k...</td>\n",
       "    </tr>\n",
       "    <tr>\n",
       "      <th>3</th>\n",
       "      <td>B005PB2T2Q</td>\n",
       "      <td>[kindle touch, kindle keyboard, doe it, look l...</td>\n",
       "      <td>[[kindle touch, 1.1339104523521293], [kindle k...</td>\n",
       "    </tr>\n",
       "    <tr>\n",
       "      <th>4</th>\n",
       "      <td>B006GWO5NE</td>\n",
       "      <td>[kindle fire, need new, kindle fire hd, good k...</td>\n",
       "      <td>[[kindle fire, 1.9297370597577206], [need new,...</td>\n",
       "    </tr>\n",
       "    <tr>\n",
       "      <th>5</th>\n",
       "      <td>B006GWO5WK</td>\n",
       "      <td>[charge kindle, kindle fire, purchase kindle, ...</td>\n",
       "      <td>[[charge kindle, 2.329915134188034], [kindle f...</td>\n",
       "    </tr>\n",
       "    <tr>\n",
       "      <th>6</th>\n",
       "      <td>B0083Q04TA</td>\n",
       "      <td>[kindle fire, fire hd, year old, kindle keyboa...</td>\n",
       "      <td>[[kindle fire, 1.6981013491860775], [fire hd, ...</td>\n",
       "    </tr>\n",
       "    <tr>\n",
       "      <th>7</th>\n",
       "      <td>B00BFJAHF8</td>\n",
       "      <td>[great doe, yr old, good work good, good start...</td>\n",
       "      <td>[[great doe, 1.0], [yr old, 0.0], [good work g...</td>\n",
       "    </tr>\n",
       "    <tr>\n",
       "      <th>8</th>\n",
       "      <td>B00DU15MU4</td>\n",
       "      <td>[apple tv, easy find, prime movie, i try, amaz...</td>\n",
       "      <td>[[apple tv, 1.6966821556118379], [easy find, 1...</td>\n",
       "    </tr>\n",
       "    <tr>\n",
       "      <th>9</th>\n",
       "      <td>B00IOY8XWQ</td>\n",
       "      <td>[kindle voyage, page turn, great reader, turn ...</td>\n",
       "      <td>[[kindle voyage, 33.678076383063065], [page tu...</td>\n",
       "    </tr>\n",
       "    <tr>\n",
       "      <th>10</th>\n",
       "      <td>B00IOYAM4I</td>\n",
       "      <td>[kindle voyage, small size, read sunlight, eas...</td>\n",
       "      <td>[[kindle voyage, 2.5620479153303113], [small s...</td>\n",
       "    </tr>\n",
       "    <tr>\n",
       "      <th>11</th>\n",
       "      <td>B00L9EPT8O,B01E6AO69U</td>\n",
       "      <td>[amazon echo, play music, great product, love ...</td>\n",
       "      <td>[[amazon echo, 224.46499785606383], [play musi...</td>\n",
       "    </tr>\n",
       "    <tr>\n",
       "      <th>12</th>\n",
       "      <td>B00LO29KXQ</td>\n",
       "      <td>[fire tv stick, tv stick, fire tv, amazon prim...</td>\n",
       "      <td>[[fire tv stick, 0.9408076339985175], [tv stic...</td>\n",
       "    </tr>\n",
       "    <tr>\n",
       "      <th>13</th>\n",
       "      <td>B00LW9XOJM</td>\n",
       "      <td>[kindle love, look good, protective case, it h...</td>\n",
       "      <td>[[kindle love, 1.3771673715708075], [look good...</td>\n",
       "    </tr>\n",
       "    <tr>\n",
       "      <th>14</th>\n",
       "      <td>B00OQVZDJM</td>\n",
       "      <td>[kindle paperwhite, easy read, great reader, l...</td>\n",
       "      <td>[[kindle paperwhite, 118.54757979138726], [eas...</td>\n",
       "    </tr>\n",
       "    <tr>\n",
       "      <th>15</th>\n",
       "      <td>B00QFQRELG</td>\n",
       "      <td>[charge kindle, charger work, kindle fire, wor...</td>\n",
       "      <td>[[charge kindle, 9.567602583436267], [charger ...</td>\n",
       "    </tr>\n",
       "    <tr>\n",
       "      <th>16</th>\n",
       "      <td>B00QJDU3KY</td>\n",
       "      <td>[new kindle, kindle paperwhite, book amazon, r...</td>\n",
       "      <td>[[new kindle, 1.7620474903082095], [kindle pap...</td>\n",
       "    </tr>\n",
       "    <tr>\n",
       "      <th>17</th>\n",
       "      <td>B00QL1ZN3G</td>\n",
       "      <td>[kindle purchase, charge kindle, recommend kin...</td>\n",
       "      <td>[[kindle purchase, 1.8874901394146284], [charg...</td>\n",
       "    </tr>\n",
       "    <tr>\n",
       "      <th>18</th>\n",
       "      <td>B00REQKWGA</td>\n",
       "      <td>[like buy, love small, great travel, good gift...</td>\n",
       "      <td>[[like buy, 1.0886788044160025], [love small, ...</td>\n",
       "    </tr>\n",
       "    <tr>\n",
       "      <th>19</th>\n",
       "      <td>B00TSUGXKE</td>\n",
       "      <td>[great tablet, good tablet, easy use, year old...</td>\n",
       "      <td>[[great tablet, 13.248887547665554], [good tab...</td>\n",
       "    </tr>\n",
       "    <tr>\n",
       "      <th>20</th>\n",
       "      <td>B00U3FPN4U</td>\n",
       "      <td>[fire tv, fire stick, great product, amazon fi...</td>\n",
       "      <td>[[fire tv, 403.2804348717742], [fire stick, 21...</td>\n",
       "    </tr>\n",
       "    <tr>\n",
       "      <th>21</th>\n",
       "      <td>B00UH4D8G2</td>\n",
       "      <td>[fire tv, fire tv box, tv box, apple tv, amazo...</td>\n",
       "      <td>[[fire tv, 1.4170755643005697], [fire tv box, ...</td>\n",
       "    </tr>\n",
       "    <tr>\n",
       "      <th>22</th>\n",
       "      <td>B00VINDBJK</td>\n",
       "      <td>[battery life, hold hand, page turn, page turn...</td>\n",
       "      <td>[[battery life, 5.296619432474642], [hold hand...</td>\n",
       "    </tr>\n",
       "    <tr>\n",
       "      <th>23</th>\n",
       "      <td>B00X4WHP5E</td>\n",
       "      <td>[amazon echo, google home, set easy, purchase ...</td>\n",
       "      <td>[[amazon echo, 1.073465848064495], [google hom...</td>\n",
       "    </tr>\n",
       "    <tr>\n",
       "      <th>24</th>\n",
       "      <td>B00ZV9PXP2</td>\n",
       "      <td>[great product, love kindle, easy use, great r...</td>\n",
       "      <td>[[great product, 7.456719338828389], [love kin...</td>\n",
       "    </tr>\n",
       "    <tr>\n",
       "      <th>25</th>\n",
       "      <td>B0189XYY0Q</td>\n",
       "      <td>[kindle fire, easy use, love kindle, large scr...</td>\n",
       "      <td>[[kindle fire, 13.821488308778248], [easy use,...</td>\n",
       "    </tr>\n",
       "    <tr>\n",
       "      <th>26</th>\n",
       "      <td>B018SZT3BK</td>\n",
       "      <td>[kindle fire, easy use, great tablet, tablet p...</td>\n",
       "      <td>[[kindle fire, 10.234999412958555], [easy use,...</td>\n",
       "    </tr>\n",
       "    <tr>\n",
       "      <th>27</th>\n",
       "      <td>B018T075DC</td>\n",
       "      <td>[long battery life, long battery, love love ki...</td>\n",
       "      <td>[[long battery life, 0.8474299650541652], [lon...</td>\n",
       "    </tr>\n",
       "    <tr>\n",
       "      <th>28</th>\n",
       "      <td>B018Y225IA</td>\n",
       "      <td>[great tablet, easy use, kindle fire, fire tab...</td>\n",
       "      <td>[[great tablet, 47.88488735433637], [easy use,...</td>\n",
       "    </tr>\n",
       "    <tr>\n",
       "      <th>29</th>\n",
       "      <td>B018Y229OU</td>\n",
       "      <td>[great tablet, great price, easy use, good tab...</td>\n",
       "      <td>[[great tablet, 482.007203683829], [great pric...</td>\n",
       "    </tr>\n",
       "    <tr>\n",
       "      <th>30</th>\n",
       "      <td>B018Y22BI4</td>\n",
       "      <td>[kid love, love great price, love product, gre...</td>\n",
       "      <td>[[kid love, 0.9138614422843211], [love great p...</td>\n",
       "    </tr>\n",
       "    <tr>\n",
       "      <th>31</th>\n",
       "      <td>B018Y22C2Y</td>\n",
       "      <td>[device kid, enjoy play, love kid, kid enjoy, ...</td>\n",
       "      <td>[[device kid, 0.8176573835935743], [enjoy play...</td>\n",
       "    </tr>\n",
       "    <tr>\n",
       "      <th>32</th>\n",
       "      <td>B018Y23MNM</td>\n",
       "      <td>[year old, great kid, great tablet, tablet kid...</td>\n",
       "      <td>[[year old, 105.05134836599197], [great kid, 7...</td>\n",
       "    </tr>\n",
       "    <tr>\n",
       "      <th>33</th>\n",
       "      <td>B018Y23P7K</td>\n",
       "      <td>[yr old, good work good, good starter tablet, ...</td>\n",
       "      <td>[[yr old, 0.0], [good work good, 0.0], [good s...</td>\n",
       "    </tr>\n",
       "    <tr>\n",
       "      <th>34</th>\n",
       "      <td>B01AHB9C1E</td>\n",
       "      <td>[kindle fire, big screen, year ago, kindle fir...</td>\n",
       "      <td>[[kindle fire, 1.5189772269588158], [big scree...</td>\n",
       "    </tr>\n",
       "    <tr>\n",
       "      <th>35</th>\n",
       "      <td>B01AHB9CN2</td>\n",
       "      <td>[great tablet, easy use, kindle fire, tablet p...</td>\n",
       "      <td>[[great tablet, 115.72402675529698], [easy use...</td>\n",
       "    </tr>\n",
       "    <tr>\n",
       "      <th>36</th>\n",
       "      <td>B01AHB9CYG</td>\n",
       "      <td>[easy use, love kindle, kindle fire, great tab...</td>\n",
       "      <td>[[easy use, 5.748992762650797], [love kindle, ...</td>\n",
       "    </tr>\n",
       "    <tr>\n",
       "      <th>37</th>\n",
       "      <td>B01BFIBRIE</td>\n",
       "      <td>[read book, read device, book read, device dev...</td>\n",
       "      <td>[[read book, 1.5789594036001897], [read device...</td>\n",
       "    </tr>\n",
       "    <tr>\n",
       "      <th>38</th>\n",
       "      <td>B01BH83OOM</td>\n",
       "      <td>[amazon tap, great sound, bluetooth speaker, s...</td>\n",
       "      <td>[[amazon tap, 33.78157401903504], [great sound...</td>\n",
       "    </tr>\n",
       "    <tr>\n",
       "      <th>39</th>\n",
       "      <td>B01J2G4VBG</td>\n",
       "      <td>[star work, work good, work fine, charge kindl...</td>\n",
       "      <td>[[star work, 37.481541555963716], [work good, ...</td>\n",
       "    </tr>\n",
       "    <tr>\n",
       "      <th>40</th>\n",
       "      <td>B01J4ORNHU</td>\n",
       "      <td>[use echo, stop work, buy replacement, reasona...</td>\n",
       "      <td>[[use echo, 1.6830527907486768], [stop work, 1...</td>\n",
       "    </tr>\n",
       "  </tbody>\n",
       "</table>\n",
       "</div>"
      ],
      "text/plain": [
       "                     asin                                         keyphrases  \\\n",
       "0              B002Y27P3M  [page turn, new kindle, kindle keyboard, use k...   \n",
       "1              B002Y27P6Y  [kindle read, kindle work, it easy, work great...   \n",
       "2              B005PB2T0S  [kindle keyboard, new kindle, feel like, kindl...   \n",
       "3              B005PB2T2Q  [kindle touch, kindle keyboard, doe it, look l...   \n",
       "4              B006GWO5NE  [kindle fire, need new, kindle fire hd, good k...   \n",
       "5              B006GWO5WK  [charge kindle, kindle fire, purchase kindle, ...   \n",
       "6              B0083Q04TA  [kindle fire, fire hd, year old, kindle keyboa...   \n",
       "7              B00BFJAHF8  [great doe, yr old, good work good, good start...   \n",
       "8              B00DU15MU4  [apple tv, easy find, prime movie, i try, amaz...   \n",
       "9              B00IOY8XWQ  [kindle voyage, page turn, great reader, turn ...   \n",
       "10             B00IOYAM4I  [kindle voyage, small size, read sunlight, eas...   \n",
       "11  B00L9EPT8O,B01E6AO69U  [amazon echo, play music, great product, love ...   \n",
       "12             B00LO29KXQ  [fire tv stick, tv stick, fire tv, amazon prim...   \n",
       "13             B00LW9XOJM  [kindle love, look good, protective case, it h...   \n",
       "14             B00OQVZDJM  [kindle paperwhite, easy read, great reader, l...   \n",
       "15             B00QFQRELG  [charge kindle, charger work, kindle fire, wor...   \n",
       "16             B00QJDU3KY  [new kindle, kindle paperwhite, book amazon, r...   \n",
       "17             B00QL1ZN3G  [kindle purchase, charge kindle, recommend kin...   \n",
       "18             B00REQKWGA  [like buy, love small, great travel, good gift...   \n",
       "19             B00TSUGXKE  [great tablet, good tablet, easy use, year old...   \n",
       "20             B00U3FPN4U  [fire tv, fire stick, great product, amazon fi...   \n",
       "21             B00UH4D8G2  [fire tv, fire tv box, tv box, apple tv, amazo...   \n",
       "22             B00VINDBJK  [battery life, hold hand, page turn, page turn...   \n",
       "23             B00X4WHP5E  [amazon echo, google home, set easy, purchase ...   \n",
       "24             B00ZV9PXP2  [great product, love kindle, easy use, great r...   \n",
       "25             B0189XYY0Q  [kindle fire, easy use, love kindle, large scr...   \n",
       "26             B018SZT3BK  [kindle fire, easy use, great tablet, tablet p...   \n",
       "27             B018T075DC  [long battery life, long battery, love love ki...   \n",
       "28             B018Y225IA  [great tablet, easy use, kindle fire, fire tab...   \n",
       "29             B018Y229OU  [great tablet, great price, easy use, good tab...   \n",
       "30             B018Y22BI4  [kid love, love great price, love product, gre...   \n",
       "31             B018Y22C2Y  [device kid, enjoy play, love kid, kid enjoy, ...   \n",
       "32             B018Y23MNM  [year old, great kid, great tablet, tablet kid...   \n",
       "33             B018Y23P7K  [yr old, good work good, good starter tablet, ...   \n",
       "34             B01AHB9C1E  [kindle fire, big screen, year ago, kindle fir...   \n",
       "35             B01AHB9CN2  [great tablet, easy use, kindle fire, tablet p...   \n",
       "36             B01AHB9CYG  [easy use, love kindle, kindle fire, great tab...   \n",
       "37             B01BFIBRIE  [read book, read device, book read, device dev...   \n",
       "38             B01BH83OOM  [amazon tap, great sound, bluetooth speaker, s...   \n",
       "39             B01J2G4VBG  [star work, work good, work fine, charge kindl...   \n",
       "40             B01J4ORNHU  [use echo, stop work, buy replacement, reasona...   \n",
       "\n",
       "                                       raw_keyphrases  \n",
       "0   [[page turn, 2.34234933075354], [new kindle, 1...  \n",
       "1   [[kindle read, 1.2621111430206566], [kindle wo...  \n",
       "2   [[kindle keyboard, 1.7086062596953622], [new k...  \n",
       "3   [[kindle touch, 1.1339104523521293], [kindle k...  \n",
       "4   [[kindle fire, 1.9297370597577206], [need new,...  \n",
       "5   [[charge kindle, 2.329915134188034], [kindle f...  \n",
       "6   [[kindle fire, 1.6981013491860775], [fire hd, ...  \n",
       "7   [[great doe, 1.0], [yr old, 0.0], [good work g...  \n",
       "8   [[apple tv, 1.6966821556118379], [easy find, 1...  \n",
       "9   [[kindle voyage, 33.678076383063065], [page tu...  \n",
       "10  [[kindle voyage, 2.5620479153303113], [small s...  \n",
       "11  [[amazon echo, 224.46499785606383], [play musi...  \n",
       "12  [[fire tv stick, 0.9408076339985175], [tv stic...  \n",
       "13  [[kindle love, 1.3771673715708075], [look good...  \n",
       "14  [[kindle paperwhite, 118.54757979138726], [eas...  \n",
       "15  [[charge kindle, 9.567602583436267], [charger ...  \n",
       "16  [[new kindle, 1.7620474903082095], [kindle pap...  \n",
       "17  [[kindle purchase, 1.8874901394146284], [charg...  \n",
       "18  [[like buy, 1.0886788044160025], [love small, ...  \n",
       "19  [[great tablet, 13.248887547665554], [good tab...  \n",
       "20  [[fire tv, 403.2804348717742], [fire stick, 21...  \n",
       "21  [[fire tv, 1.4170755643005697], [fire tv box, ...  \n",
       "22  [[battery life, 5.296619432474642], [hold hand...  \n",
       "23  [[amazon echo, 1.073465848064495], [google hom...  \n",
       "24  [[great product, 7.456719338828389], [love kin...  \n",
       "25  [[kindle fire, 13.821488308778248], [easy use,...  \n",
       "26  [[kindle fire, 10.234999412958555], [easy use,...  \n",
       "27  [[long battery life, 0.8474299650541652], [lon...  \n",
       "28  [[great tablet, 47.88488735433637], [easy use,...  \n",
       "29  [[great tablet, 482.007203683829], [great pric...  \n",
       "30  [[kid love, 0.9138614422843211], [love great p...  \n",
       "31  [[device kid, 0.8176573835935743], [enjoy play...  \n",
       "32  [[year old, 105.05134836599197], [great kid, 7...  \n",
       "33  [[yr old, 0.0], [good work good, 0.0], [good s...  \n",
       "34  [[kindle fire, 1.5189772269588158], [big scree...  \n",
       "35  [[great tablet, 115.72402675529698], [easy use...  \n",
       "36  [[easy use, 5.748992762650797], [love kindle, ...  \n",
       "37  [[read book, 1.5789594036001897], [read device...  \n",
       "38  [[amazon tap, 33.78157401903504], [great sound...  \n",
       "39  [[star work, 37.481541555963716], [work good, ...  \n",
       "40  [[use echo, 1.6830527907486768], [stop work, 1...  "
      ]
     },
     "execution_count": 20,
     "metadata": {},
     "output_type": "execute_result"
    }
   ],
   "source": [
    "products_keyphrases_df = pd.DataFrame(products_keyphrases_df)\n",
    "products_keyphrases_df"
   ]
  },
  {
   "cell_type": "code",
   "execution_count": 21,
   "metadata": {
    "tags": []
   },
   "outputs": [
    {
     "name": "stdout",
     "output_type": "stream",
     "text": [
      "Product 0. Top tags ['page turn' 'new kindle' 'kindle keyboard' 'use kindle'\n",
      " 'page turn button' 'turn button' 'use battery' 'reader i' 'good device'\n",
      " 'book easy' 'great service' 'good light' 'kindle touch' 'touch screen'\n",
      " 'great love' 'it small' 'generation kindle' 'love great' 'connect home'\n",
      " 'perfect read']\n",
      "Product 1. Top tags ['kindle read' 'kindle work' 'it easy' 'work great' 'new kindle'\n",
      " 'hold hand' 'quality product' 'like product' 'purchase kindle'\n",
      " 'recommend product' 'kindle product' 'new amazon' 'device purchase'\n",
      " 'read like' 'read device' 'good kindle' 'especially price' 'start use'\n",
      " 'price pay' 'replace kindle']\n",
      "Product 2. Top tags ['kindle keyboard' 'new kindle' 'feel like' 'kindle light' 'size weight'\n",
      " 'high quality' 'everyday use' 'buy replacement' 'version kindle'\n",
      " 'new version' 'light great' 'kindle doe' 'kindle use' 'decide buy'\n",
      " 'light screen' 'money buy' 'save money' 'want use' 'kindle good'\n",
      " 'ease use']\n",
      "Product 3. Top tags ['kindle touch' 'kindle keyboard' 'doe it' 'look like' 'good it'\n",
      " 'price tag' 'overall it' 'i glad' 'read review' 'like read' 'i happy'\n",
      " 'it nice' 'big deal' 'love reader' 'kindle product' 'work amazon'\n",
      " 'especially price' 'it like' 'generation kindle' 'i sure']\n",
      "Product 4. Top tags ['kindle fire' 'need new' 'kindle fire hd' 'good kindle' 'kindle fire buy'\n",
      " 'fire buy' 'kindle purchase' 'fire hd' 'original kindle' 'good thing'\n",
      " 'work great love' 'use time' 'download book' 'worth price' 'great love'\n",
      " 'work good' 'charger work' 'good worth price' 'work great' 'read bed']\n"
     ]
    }
   ],
   "source": [
    "# pos analysis\n",
    "for i, (ind, product) in enumerate(products_keyphrases_df.iterrows()):\n",
    "    print(f'Product {ind}. Top tags {product.keyphrases}')\n",
    "    if i == 4:\n",
    "        break"
   ]
  },
  {
   "cell_type": "markdown",
   "metadata": {},
   "source": [
    "## Grouping keyphrases"
   ]
  },
  {
   "cell_type": "markdown",
   "metadata": {},
   "source": [
    "### TF LDA method"
   ]
  },
  {
   "cell_type": "code",
   "execution_count": 22,
   "metadata": {},
   "outputs": [],
   "source": [
    "def display_topics(model, feature_names, no_top_words):\n",
    "    for topic_idx, topic in enumerate(model.components_):\n",
    "        print(f'Topic number {topic_idx + 1}:')\n",
    "        print(', '.join(\n",
    "            [feature_names[i] for i in topic.argsort()[:-no_top_words - 1:-1]])\n",
    "        )"
   ]
  },
  {
   "cell_type": "code",
   "execution_count": 23,
   "metadata": {},
   "outputs": [
    {
     "data": {
      "text/plain": [
       "(['year old mother',\n",
       "  'year old nephew',\n",
       "  'year old son',\n",
       "  'year old use',\n",
       "  'year warranty',\n",
       "  'you look',\n",
       "  'young child',\n",
       "  'young kid',\n",
       "  'youtube video',\n",
       "  'yr old'],\n",
       " ['10 year',\n",
       "  '10 year old',\n",
       "  '11 year',\n",
       "  '11 year old',\n",
       "  '12 year',\n",
       "  '12 year old',\n",
       "  '128 gb',\n",
       "  '16 gb',\n",
       "  '32 gb',\n",
       "  '3rd kindle'])"
      ]
     },
     "execution_count": 23,
     "metadata": {},
     "output_type": "execute_result"
    }
   ],
   "source": [
    "vectorizer = CountVectorizer(ngram_range=(2,3), max_features=2000, tokenizer=token_spacy_v2)\n",
    "transformed_texts = vectorizer.fit_transform(reviews_df.all_text);\n",
    "vectorizer.get_feature_names()[-10:], vectorizer.get_feature_names()[:10]"
   ]
  },
  {
   "cell_type": "code",
   "execution_count": 24,
   "metadata": {},
   "outputs": [],
   "source": [
    "no_topics = 10\n",
    "lda = LatentDirichletAllocation(n_components=no_topics, max_iter=5, learning_method='online', learning_offset=50., random_state=0)\n",
    "lda.fit(transformed_texts);"
   ]
  },
  {
   "cell_type": "code",
   "execution_count": 25,
   "metadata": {
    "tags": []
   },
   "outputs": [
    {
     "name": "stdout",
     "output_type": "stream",
     "text": [
      "Topic number 1:\n",
      "work good, amazon echo, work great, good product, great product\n",
      "Topic number 2:\n",
      "great gift, love alexa, excellent product, smart tv, great addition\n",
      "Topic number 3:\n",
      "amazon prime, easy set, easy use, highly recommend, apple tv\n",
      "Topic number 4:\n",
      "great stream, great buy, it great, great sound, work great\n",
      "Topic number 5:\n",
      "great product, fire stick, product great, easy use, easy read\n",
      "Topic number 6:\n",
      "easy use, great device, sound quality, great read, ask alexa\n",
      "Topic number 7:\n",
      "year old, stream device, good tablet, love easy, easy use\n",
      "Topic number 8:\n",
      "fire tv, amazon fire, amazon fire tv, play music, love echo\n",
      "Topic number 9:\n",
      "great tablet, great price, tablet great, kid love, tablet price\n",
      "Topic number 10:\n",
      "kindle fire, love kindle, love love, battery life, kindle paperwhite\n"
     ]
    }
   ],
   "source": [
    "# n=2,3\n",
    "no_top_words = 5\n",
    "display_topics(lda, vectorizer.get_feature_names(), no_top_words)"
   ]
  },
  {
   "cell_type": "code",
   "execution_count": 38,
   "metadata": {
    "tags": []
   },
   "outputs": [
    {
     "name": "stdout",
     "output_type": "stream",
     "text": [
      "Topic 0:\n",
      "tv, fire, amazon, fire tv, -PRON-\n",
      "Topic 1:\n",
      "great, product, love, great product, use\n",
      "Topic 2:\n",
      "easy, use, great, easy use, light\n",
      "Topic 3:\n",
      "box, reader, question, charge, month\n",
      "Topic 4:\n",
      "tablet, great, price, good, great tablet\n",
      "Topic 5:\n",
      "kindle, love, gift, buy, read\n",
      "Topic 6:\n",
      "echo, device, -PRON-, amazon, home\n",
      "Topic 7:\n",
      "alexa, music, play, use, game\n",
      "Topic 8:\n",
      "love, great, tablet, buy, year\n",
      "Topic 9:\n",
      "good, work, app, product, great\n"
     ]
    }
   ],
   "source": [
    "# n=1,3\n",
    "no_top_words = 5\n",
    "display_topics(lda, vectorizer.get_feature_names(), no_top_words)"
   ]
  },
  {
   "cell_type": "markdown",
   "metadata": {},
   "source": [
    "### TF-IDF NMF method"
   ]
  },
  {
   "cell_type": "code",
   "execution_count": 26,
   "metadata": {},
   "outputs": [
    {
     "data": {
      "text/plain": [
       "(['year old mother',\n",
       "  'year old nephew',\n",
       "  'year old son',\n",
       "  'year old use',\n",
       "  'year warranty',\n",
       "  'you look',\n",
       "  'young child',\n",
       "  'young kid',\n",
       "  'youtube video',\n",
       "  'yr old'],\n",
       " ['10 year',\n",
       "  '10 year old',\n",
       "  '11 year',\n",
       "  '11 year old',\n",
       "  '12 year',\n",
       "  '12 year old',\n",
       "  '128 gb',\n",
       "  '16 gb',\n",
       "  '32 gb',\n",
       "  '3rd kindle'])"
      ]
     },
     "execution_count": 26,
     "metadata": {},
     "output_type": "execute_result"
    }
   ],
   "source": [
    "vectorizer = TfidfVectorizer(ngram_range=(2,3), max_features=2000, tokenizer=token_spacy_v2)\n",
    "transformed_texts = vectorizer.fit_transform(reviews_df.all_text);\n",
    "vectorizer.get_feature_names()[-10:], vectorizer.get_feature_names()[:10]"
   ]
  },
  {
   "cell_type": "code",
   "execution_count": 27,
   "metadata": {},
   "outputs": [],
   "source": [
    "no_topics = 10\n",
    "nmf = NMF(n_components=no_topics, random_state=1, alpha=.1, l1_ratio=.5, init='nndsvd')\n",
    "nmf.fit(transformed_texts);"
   ]
  },
  {
   "cell_type": "code",
   "execution_count": 28,
   "metadata": {
    "tags": []
   },
   "outputs": [
    {
     "name": "stdout",
     "output_type": "stream",
     "text": [
      "Topic number 1:\n",
      "great tablet, tablet price, tablet great, great tablet price, tablet kid\n",
      "Topic number 2:\n",
      "great product, product great, great product great, product great product, great product love\n",
      "Topic number 3:\n",
      "easy use, use great, love easy, easy use great, love easy use\n",
      "Topic number 4:\n",
      "fire tv, amazon fire, amazon fire tv, fire stick, tv box\n",
      "Topic number 5:\n",
      "work great, great work, great love, tablet work great, work great love\n",
      "Topic number 6:\n",
      "year old, old love, buy year, year old love, buy year old\n",
      "Topic number 7:\n",
      "work good, tablet work good, tablet work, product work good, product work\n",
      "Topic number 8:\n",
      "great price, tablet great, tablet great price, price great, great price great\n",
      "Topic number 9:\n",
      "kindle fire, love kindle, love kindle fire, read book, new kindle\n",
      "Topic number 10:\n",
      "good product, product good, good product good, product good product, good good\n"
     ]
    }
   ],
   "source": [
    "no_top_words = 5\n",
    "display_topics(nmf, vectorizer.get_feature_names(), no_top_words)"
   ]
  },
  {
   "cell_type": "markdown",
   "metadata": {},
   "source": [
    "## TF-IDF NMF grouped by product"
   ]
  },
  {
   "cell_type": "code",
   "execution_count": 30,
   "metadata": {
    "tags": []
   },
   "outputs": [
    {
     "data": {
      "text/plain": [
       "(['young son',\n",
       "  'youtube app',\n",
       "  'youtube kid',\n",
       "  'youtube netflix',\n",
       "  'youtube video',\n",
       "  'yr old',\n",
       "  'yr old daughter',\n",
       "  'yr old grandson',\n",
       "  'yr old love',\n",
       "  'yr old son'],\n",
       " ['10 inch',\n",
       "  '10 year',\n",
       "  '10 year old',\n",
       "  '11 year',\n",
       "  '11 year old',\n",
       "  '12 year',\n",
       "  '12 year old',\n",
       "  '128 gb',\n",
       "  '16 gb',\n",
       "  '1st gen'])"
      ]
     },
     "execution_count": 30,
     "metadata": {},
     "output_type": "execute_result"
    }
   ],
   "source": [
    "vectorizer = TfidfVectorizer(ngram_range=(2, 3), max_features=5000, tokenizer=token_spacy_v2)\n",
    "vectorizer.fit(reviews_df.all_text)\n",
    "vectorizer.get_feature_names()[-10:], vectorizer.get_feature_names()[:10]"
   ]
  },
  {
   "cell_type": "markdown",
   "metadata": {},
   "source": [
    "Showing top 5 topics for each product"
   ]
  },
  {
   "cell_type": "code",
   "execution_count": 31,
   "metadata": {
    "tags": []
   },
   "outputs": [
    {
     "name": "stdout",
     "output_type": "stream",
     "text": [
      "(19, 22)\n",
      "\n",
      "Product asin: B002Y27P3M\n",
      "Topic number 1:\n",
      "page turn, power button, read thing, dedicate reader, compare apple\n",
      "Topic number 2:\n",
      "kindle keyboard, kindle touch, br br, touch screen, year old kindle\n",
      "Topic number 3:\n",
      "new kindle, it small, generation kindle, perfect read, br br\n",
      "Topic number 4:\n",
      "page turn, br br, kindle store, good light, iphone ipad\n",
      "Topic number 5:\n",
      "buy want, read time, book easy, fit purse, yr old son\n",
      "(10, 22)\n",
      "\n",
      "Product asin: B002Y27P6Y\n",
      "Topic number 1:\n",
      "kindle cover, new kindle, it big, kindle read, kindle work\n",
      "Topic number 2:\n",
      "good fit, product want, long period, hold long, kindle product\n",
      "Topic number 3:\n",
      "great happy, work great, use small, way use, good price\n",
      "Topic number 4:\n",
      "find helpful, hold hand, quality product, yr old son, good product good\n",
      "Topic number 5:\n",
      "nice simple, good think, it easy, yr old son, good product good\n",
      "(5, 22)\n",
      "\n",
      "Product asin: B005PB2T0S\n",
      "Topic number 1:\n",
      "kindle keyboard, feel like, kindle battery, previous generation, big improvement\n",
      "Topic number 2:\n",
      "high quality, dark room, actual book, comfortable hold, kindle price\n",
      "Topic number 3:\n",
      "kindle cover, light like, finally decide, sound like, main reason\n",
      "Topic number 4:\n",
      "kindle cover, plan use, kindle keyboard, everyday use, version kindle\n",
      "Topic number 5:\n",
      "new kindle, kindle keyboard, kindle battery, light screen, kindle good\n",
      "(6, 22)\n",
      "\n",
      "Product asin: B005PB2T2Q\n",
      "Topic number 1:\n",
      "kindle cover, kindle touch, good it, look like, job good\n",
      "Topic number 2:\n",
      "little disappoint, look nice, doe it suppose, case it, lot little\n",
      "Topic number 3:\n",
      "super light, price tag, i glad, read review, like read\n",
      "Topic number 4:\n",
      "big problem, kindle keyboard, yr old son, good product price, good problem\n",
      "Topic number 5:\n",
      "look cheap, review buy, reader work, perfect fit, kindle touch\n",
      "(8, 22)\n",
      "\n",
      "Product asin: B006GWO5NE\n",
      "Topic number 1:\n",
      "kindle fire, kindle fire hd, fire hd, worth price, music it\n",
      "Topic number 2:\n",
      "come kindle, charge fast, need new, wish come, work exactly\n",
      "Topic number 3:\n",
      "power cord, usb port, good thing, work great love, great love\n",
      "Topic number 4:\n",
      "need kindle, yr old son, good product great, good price great, good price tablet\n",
      "Topic number 5:\n",
      "charge cord, kindle model, kindle come, good kindle, original kindle\n",
      "(13, 22)\n",
      "\n",
      "Product asin: B006GWO5WK\n",
      "Topic number 1:\n",
      "charge kindle, charger kindle, kindle fire, micro usb, save money\n",
      "Topic number 2:\n",
      "charger work, charge fast, kindle fire, use wife, time time\n",
      "Topic number 3:\n",
      "fast charger, price device, kindle hd, purchase kindle, yr old son\n",
      "Topic number 4:\n",
      "good fire, good deal, work good, yr old son, good problem\n",
      "Topic number 5:\n",
      "kindle cover, quality excellent, doe work, high quality, great value\n",
      "(4, 22)\n",
      "(1, 22)\n",
      "(6, 22)\n",
      "\n",
      "Product asin: B00DU15MU4\n",
      "Topic number 1:\n",
      "br br, device read, yr old son, good product work, good problem\n",
      "Topic number 2:\n",
      "i try, amazon prime, work good, search feature, couple hour\n",
      "Topic number 3:\n",
      "prime movie, let know, prime content, easy find, like amazon\n",
      "Topic number 4:\n",
      "game i, screen saver, i amazon, free movie, exactly look\n",
      "Topic number 5:\n",
      "apple tv, stream content, game changer, content amazon, price device\n",
      "(580, 22)\n",
      "\n",
      "Product asin: B00IOY8XWQ\n",
      "Topic number 1:\n",
      "kindle voyage, love kindle, avid reader, touch screen, easy hold\n",
      "Topic number 2:\n",
      "page turn, turn button, page turn button, turn page, love new\n",
      "Topic number 3:\n",
      "great reader, good reader, battery life, reader good, great reader kindle\n",
      "Topic number 4:\n",
      "new kindle, love new, love new kindle, new feature, kindle love\n",
      "Topic number 5:\n",
      "light weight, light weight easy, weight easy, comfortable hold, small light\n",
      "(51, 22)\n",
      "\n",
      "Product asin: B00IOYAM4I\n",
      "Topic number 1:\n",
      "kindle voyage, easy read, read sunlight, upgrade kindle, original kindle\n",
      "Topic number 2:\n",
      "good battery life, good battery, battery life, use little, battery life great\n",
      "Topic number 3:\n",
      "kindle love, old kindle, great product, light small, light feature\n",
      "Topic number 4:\n",
      "small size, size fit, like small, light carry, great replacement\n",
      "Topic number 5:\n",
      "purchase wife, read purchase, good think, good small, good purchase\n"
     ]
    }
   ],
   "source": [
    "for i, (ind, product_group) in enumerate(reviews_df.groupby('asins')):\n",
    "    print(product_group.shape)\n",
    "    if product_group.shape[0] < 5:\n",
    "        continue\n",
    "    nmf = NMF(n_components=5, random_state=1, alpha=.1, l1_ratio=.5, init='nndsvd')\n",
    "    nmf.fit(vectorizer.transform(product_group.all_text));\n",
    "    \n",
    "    no_top_words = 5\n",
    "    print(f'\\nProduct asin: {ind}')\n",
    "    display_topics(nmf, vectorizer.get_feature_names(), no_top_words)\n",
    "\n",
    "    if i == 10:\n",
    "        break"
   ]
  },
  {
   "cell_type": "markdown",
   "metadata": {},
   "source": [
    "Showing top 5 topics for the most popular products"
   ]
  },
  {
   "cell_type": "code",
   "execution_count": 34,
   "metadata": {},
   "outputs": [
    {
     "name": "stdout",
     "output_type": "stream",
     "text": [
      "\n",
      "Product asin: B00L9EPT8O,B01E6AO69U\n",
      "Topic number 1:\n",
      "amazon echo, love amazon echo, love amazon, echo great, amazon echo great\n",
      "Topic number 2:\n",
      "love alexa, alexa great, alexa love, love alexa love, love alexa great\n",
      "Topic number 3:\n",
      "great product, product great, great product great, product great product, product love\n",
      "Topic number 4:\n",
      "love echo, echo love, echo love echo, love echo love, echo great\n",
      "Topic number 5:\n",
      "play music, great sound, answer question, smart home, ask question\n",
      "\n",
      "Product asin: B00OQVZDJM\n",
      "Topic number 1:\n",
      "easy read, read light, light easy, easy read light, light easy read\n",
      "Topic number 2:\n",
      "kindle paperwhite, love kindle, love kindle paperwhite, paperwhite great, paperwhite love\n",
      "Topic number 3:\n",
      "great reader, reader great, great reader love, reader love, reader great reader\n",
      "Topic number 4:\n",
      "paper white, kindle paper white, kindle paper, paper white kindle, white kindle\n",
      "Topic number 5:\n",
      "great read, battery life, read book, easy eye, easy use\n",
      "\n",
      "Product asin: B00U3FPN4U\n",
      "Topic number 1:\n",
      "fire tv, amazon fire tv, amazon fire, tv box, fire tv box\n",
      "Topic number 2:\n",
      "fire stick, fast fire stick, fast fire, amazon fire stick, love fire stick\n",
      "Topic number 3:\n",
      "stream device, great stream, great stream device, device stream, stream device great\n",
      "Topic number 4:\n",
      "great product, product great, product great product, great product great, product easy\n",
      "Topic number 5:\n",
      "work great, tv work, tv work great, work great easy, great easy\n",
      "\n",
      "Product asin: B018Y229OU\n",
      "Topic number 1:\n",
      "great tablet, tablet great, great tablet great, tablet great tablet, tablet kid\n",
      "Topic number 2:\n",
      "great price, tablet great price, tablet great, price great, great price great\n",
      "Topic number 3:\n",
      "tablet price, great tablet price, great tablet, price great, tablet price great\n",
      "Topic number 4:\n",
      "easy use, tablet easy, tablet easy use, year old, fire tablet\n",
      "Topic number 5:\n",
      "good tablet, tablet good, tablet good tablet, good tablet price, good tablet good\n",
      "\n",
      "Product asin: B01AHB9CN2\n",
      "Topic number 1:\n",
      "great tablet, tablet price, great tablet price, tablet love, great tablet tablet\n",
      "Topic number 2:\n",
      "kindle fire, fire hd, kindle fire hd, love kindle, love kindle fire\n",
      "Topic number 3:\n",
      "easy use, tablet easy, tablet easy use, easy use great, easy use tablet\n",
      "Topic number 4:\n",
      "tablet great, great tablet great, great price, tablet great price, tablet great tablet\n",
      "Topic number 5:\n",
      "fire hd8, amazon fire hd8, amazon fire, fire hd8 tablet, hd8 tablet\n"
     ]
    }
   ],
   "source": [
    "for ind, product_group in reviews_df.groupby('asins'):\n",
    "    if product_group.shape[0] < 2000:\n",
    "        continue\n",
    "    \n",
    "    nmf = NMF(n_components=5, random_state=1, alpha=.1, l1_ratio=.5, init='nndsvd')\n",
    "    nmf.fit(vectorizer.transform(product_group.all_text));\n",
    "    \n",
    "    no_top_words = 5\n",
    "    print(f'\\nProduct asin: {ind}')\n",
    "    display_topics(nmf, vectorizer.get_feature_names(), no_top_words)"
   ]
  }
 ],
 "metadata": {
  "kernelspec": {
   "display_name": "Python 3",
   "language": "python",
   "name": "python3"
  },
  "language_info": {
   "codemirror_mode": {
    "name": "ipython",
    "version": 3
   },
   "file_extension": ".py",
   "mimetype": "text/x-python",
   "name": "python",
   "nbconvert_exporter": "python",
   "pygments_lexer": "ipython3",
   "version": "3.7.7"
  }
 },
 "nbformat": 4,
 "nbformat_minor": 4
}
